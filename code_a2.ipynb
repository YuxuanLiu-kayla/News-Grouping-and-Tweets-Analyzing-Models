{
  "cells": [
    {
      "cell_type": "code",
      "execution_count": 1,
      "metadata": {
        "colab": {
          "base_uri": "https://localhost:8080/"
        },
        "id": "4AllUCC8PmGs",
        "outputId": "8c4a810d-ae3d-4ce1-8cbf-b43587e7261b"
      },
      "outputs": [
        {
          "output_type": "stream",
          "name": "stdout",
          "text": [
            "[nltk_data] Downloading package wordnet to /root/nltk_data...\n",
            "[nltk_data]   Unzipping corpora/wordnet.zip.\n",
            "[nltk_data] Downloading package punkt to /root/nltk_data...\n",
            "[nltk_data]   Unzipping tokenizers/punkt.zip.\n",
            "[nltk_data] Downloading package averaged_perceptron_tagger to\n",
            "[nltk_data]     /root/nltk_data...\n",
            "[nltk_data]   Unzipping taggers/averaged_perceptron_tagger.zip.\n",
            "[nltk_data] Downloading package stopwords to /root/nltk_data...\n",
            "[nltk_data]   Unzipping corpora/stopwords.zip.\n"
          ]
        }
      ],
      "source": [
        "import numpy as np\n",
        "import itertools\n",
        "%matplotlib inline\n",
        "import matplotlib.pyplot as plt\n",
        "\n",
        "from sklearn.datasets import fetch_20newsgroups\n",
        "from sklearn.feature_extraction.text import CountVectorizer\n",
        "from sklearn.feature_extraction.text import TfidfTransformer\n",
        "\n",
        "import nltk\n",
        "from nltk.stem import WordNetLemmatizer\n",
        "from nltk.corpus import wordnet\n",
        "nltk.download('wordnet')\n",
        "nltk.download('punkt')\n",
        "nltk.download('averaged_perceptron_tagger')\n",
        "nltk.download('stopwords')\n",
        "\n",
        "import re\n",
        "\n",
        "from nltk.corpus import stopwords\n",
        "from nltk.tokenize import word_tokenize\n",
        "\n",
        "import pandas as pd\n",
        "\n",
        "import matplotlib.pyplot as plt\n",
        "from sklearn import model_selection\n",
        "from sklearn.linear_model import LogisticRegression\n",
        "from sklearn.tree import DecisionTreeClassifier\n",
        "from sklearn.neighbors import KNeighborsClassifier\n",
        "\n",
        "from sklearn.metrics import accuracy_score\n",
        "from sklearn.model_selection import train_test_split\n",
        "\n",
        "np.random.seed(1234)"
      ]
    },
    {
      "cell_type": "markdown",
      "metadata": {
        "id": "8LC7Yevk--7d"
      },
      "source": [
        "#Task 1: Acquire, preprocess, and analyze the data"
      ]
    },
    {
      "cell_type": "markdown",
      "metadata": {
        "id": "taNoD3dzCtOO"
      },
      "source": [
        "Dataset 1: 20 news group"
      ]
    },
    {
      "cell_type": "code",
      "execution_count": 10,
      "metadata": {
        "colab": {
          "base_uri": "https://localhost:8080/",
          "height": 336
        },
        "id": "RiFRR2JYCsqO",
        "outputId": "23f04400-d475-488c-f8a2-2c7e39152c75"
      },
      "outputs": [
        {
          "output_type": "display_data",
          "data": {
            "image/png": "[encoded data removed]",
            "text/plain": [
              "<Figure size 432x288 with 1 Axes>"
            ]
          },
          "metadata": {
            "needs_background": "light"
          }
        }
      ],
      "source": [
        "# the type of twenty_train is a scikit-learn \"Bunch\"\n",
        "twenty_news = fetch_20newsgroups(subset = 'train' , remove = ([\"headers\", \"footers\", \"quotes\"]))  # twenty_news.data is of type list, twenty_news.data[i] is of type string\n",
        "known_labels = twenty_news.target  # type: np.ndarray | shape: (11314,)\n",
        "\n",
        "\n",
        "# convert all uppercase letters to lowercase\n",
        "lower_news_data = [x.lower() for x in twenty_news.data]  # type of data: list\n",
        "\n",
        "# helper function that preprocess news data by removing all punctuations\n",
        "def rm_punc(sen_list):\n",
        "  return [re.sub(r'[^\\w\\s]', '', sentence) for sentence in sen_list]\n",
        "########## remove all punctuations in text\n",
        "no_punc_news_data = rm_punc(lower_news_data)\n",
        "\n",
        "\n",
        "######################### lemmatize words and remove stopwords\n",
        "lemmatizer = WordNetLemmatizer()\n",
        "\n",
        "# helper function that assign tag to a word\n",
        "def pos_tagger(nltk_tag):\n",
        "  if nltk_tag.startswith('J'):\n",
        "    return wordnet.ADJ\n",
        "  elif nltk_tag.startswith('V'):\n",
        "    return wordnet.VERB\n",
        "  elif nltk_tag.startswith('N'):\n",
        "    return wordnet.NOUN\n",
        "  elif nltk_tag.startswith('R'):\n",
        "    return wordnet.ADV\n",
        "  else:         \n",
        "    return None\n",
        "\n",
        "# a helper function that tokenize sentence and lemmalize all words in that sentence\n",
        "def lem_stp_sentence(sentence):\n",
        "  stpwords = stopwords.words('english')\n",
        "  lem_list = []\n",
        "  pos_tagged_words = nltk.pos_tag(nltk.word_tokenize(sentence))\n",
        "  wordnet_tagged = list(map(lambda x: (x[0], pos_tagger(x[1])), pos_tagged_words))\n",
        "  for word, tag in wordnet_tagged:\n",
        "    if word not in stpwords:\n",
        "      if tag is None:\n",
        "        lem_list.append(word)\n",
        "      else:\n",
        "        lem_list.append(lemmatizer.lemmatize(word, tag))\n",
        "  return ' '.join(lem_list)\n",
        "\n",
        "final_news_data = [lem_stp_sentence(s) for s in no_punc_news_data]\n",
        "\n",
        "\n",
        "######################### create count vectorizer\n",
        "cv = CountVectorizer()\n",
        "X_news_counts = cv.fit_transform(final_news_data)  # X_news_counts is of type array\n",
        "\n",
        "X_train_counts = X_news_counts[:10748]\n",
        "X_test_counts = X_news_counts[10748:]\n",
        "news_train_labels = known_labels[:10748].tolist()\n",
        "news_test_labels = known_labels[10748:].tolist()\n",
        "\n",
        "\n",
        "######################### raw data\n",
        "news_features = cv.get_feature_names_out()\n",
        "cv_train_raw1 = CountVectorizer(vocabulary = news_features)\n",
        "raw_train_counts1 = cv_train_raw1.fit_transform(no_punc_news_data)[:10748]\n",
        "\n",
        "cv_test_raw1 = CountVectorizer(vocabulary = news_features)\n",
        "raw_test_counts1 = cv_test_raw1.fit_transform(no_punc_news_data)[10748:]\n",
        "\n",
        "\n",
        "######################### Analyze data in the training set\n",
        "# get all possible labels\n",
        "unique_labels = list(set(news_train_labels))\n",
        "#print(unique_labels)\n",
        "cat_counter = dict.fromkeys(unique_labels, 0)\n",
        "#print(cat_counter)\n",
        "rows, columns = X_train_counts.shape\n",
        "for i in range(rows):\n",
        "  label = news_train_labels[i]\n",
        "  cat_counter[label] += 1\n",
        "\n",
        "fig = plt.figure()\n",
        "ax = fig.add_axes([0,0,1,1])\n",
        "news_train_x = list(map(str, range(0, 20)))\n",
        "news_train_y = list(cat_counter.values())\n",
        "\n",
        "ax.bar(news_train_x, news_train_y)\n",
        "ax.set_ylim(bottom=200)\n",
        "plt.show()\n",
        "\n",
        "# transfer from occurences to frequencies\n",
        "tf_train_trans = TfidfTransformer(use_idf=False).fit(X_train_counts)\n",
        "tf_test_trans = TfidfTransformer(use_idf=False).fit(X_test_counts)\n",
        "\n",
        "X_train_freq = tf_train_trans.transform(X_train_counts)\n",
        "X_test_freq = tf_test_trans.transform(X_test_counts)\n",
        "\n",
        "news_train_labels = known_labels[:10748]\n",
        "news_test_labels = known_labels[10748:]\n"
      ]
    },
    {
      "cell_type": "markdown",
      "metadata": {
        "id": "mNblB6mrDKMI"
      },
      "source": [
        "Dataset 2: Sentiment 140"
      ]
    },
    {
      "cell_type": "code",
      "execution_count": 11,
      "metadata": {
        "id": "Fwbh-JtPkyKY",
        "colab": {
          "base_uri": "https://localhost:8080/",
          "height": 340
        },
        "outputId": "7e46fb55-a81c-4a34-f440-db5b168cd182"
      },
      "outputs": [
        {
          "output_type": "display_data",
          "data": {
            "image/png": "[encoded data removed]",
            "text/plain": [
              "<Figure size 432x288 with 1 Axes>"
            ]
          },
          "metadata": {
            "needs_background": "light"
          }
        }
      ],
      "source": [
        "load_sent140_train_df = pd.read_csv(\"../training.1600000.processed.noemoticon.csv\", encoding = 'latin-1')  # the return type of load_sent140_train is DataFrame\n",
        "load_sent140_test_df = pd.read_csv(\"../new_testdata.manual.2009.06.14.csv\", encoding = 'latin-1')\n",
        "\n",
        "# get the np representation of loaded sentiment140 data\n",
        "sent140_train_np = load_sent140_train_df.values  # type: np.ndarray | shape of this np is: (1599999, 6)\n",
        "sent140_test_np = load_sent140_test_df.values\n",
        "# shuffle the original data\n",
        "np.random.shuffle(sent140_train_np)\n",
        "np.random.shuffle(sent140_test_np)\n",
        "# extract only the label and the message columns in data\n",
        "sent140_train_needed = sent140_train_np.compress([True, False, False, False, False, True], axis = 1)  # type: np.ndarray | shape: (1599999, 2)\n",
        "sent140_test_needed = sent140_test_np.compress([True, False, False, False, False, True], axis = 1)\n",
        "# get only 20% of the original data (which are 320000 lines)\n",
        "sent140_train_extract = sent140_train_np.compress([True, False, False, False, False, True], axis = 1)[:320000]  # type: np.ndarray | shape: (320000, 2)\n",
        "sent140_train_msg = sent140_train_extract.compress([False, True], axis = 1).flatten()\n",
        "sent140_train_labels = sent140_train_extract.compress([True, False], axis = 1).flatten()[:320000].astype(int)  # type: np.ndarray | shape: (320000,)\n",
        "sent140_train_labels[sent140_train_labels > 0] = 1\n",
        "\n",
        "sent140_test_msg = sent140_test_needed.compress([False, True], axis = 1).flatten()\n",
        "sent140_test_labels = sent140_test_needed.compress([True, False], axis = 1).flatten().astype(int)\n",
        "sent140_test_labels[sent140_test_labels > 0] = 1\n",
        "\n",
        "msg_train_list = sent140_train_msg.tolist()  # convert ndarray of messages to a LIST of STRINGS | shape of msg_list: 1599999\n",
        "msg_test_list = sent140_test_msg.tolist()\n",
        "\n",
        "# convert all uppercase letters to lowercase\n",
        "lower_msg_train_data = [x.lower() for x in msg_train_list]  # type of data: list\n",
        "lower_msg_test_data = [x.lower() for x in msg_test_list]\n",
        "# remove all punctuations\n",
        "no_punc_msg_train_data = rm_punc(lower_msg_train_data)\n",
        "no_punc_msg_test_data = rm_punc(lower_msg_test_data)\n",
        "\n",
        "\n",
        "########## lemmatize words and remove stopwords\n",
        "# generate a new lemmatizer\n",
        "lemmatizer2 = WordNetLemmatizer()\n",
        "\n",
        "final_msg_train = [lem_stp_sentence(s) for s in no_punc_msg_train_data]\n",
        "final_msg_test = [lem_stp_sentence(s) for s in no_punc_msg_test_data]\n",
        "\n",
        "\n",
        "# feature selection and vectorizer initialization\n",
        "cv2 = CountVectorizer(min_df = 5)  # ignore words that appear in less than 5 instances\n",
        "X_sent140_train_counts = cv2.fit_transform(final_msg_train)  # shape: (320000, 20999)\n",
        "\n",
        "\n",
        "######################### Analyze data in the training set\n",
        "# get all possible labels\n",
        "unique_labels = [0, 1]\n",
        "#print(unique_labels)\n",
        "cat_counter = dict.fromkeys(unique_labels, 0)\n",
        "#print(cat_counter)\n",
        "rows, columns = X_sent140_train_counts.shape\n",
        "for i in range(rows):\n",
        "  label = sent140_train_labels[i]\n",
        "  cat_counter[label] += 1\n",
        "\n",
        "fig = plt.figure()\n",
        "ax = fig.add_axes([0,0,1,1])\n",
        "news_train_x = list(map(str, range(0, 2)))\n",
        "news_train_y = list(cat_counter.values())\n",
        "\n",
        "ax.bar(news_train_x, news_train_y)\n",
        "ax.set_ylim(top = 160500, bottom = 157500)\n",
        "plt.show()\n",
        "\n",
        "\n",
        "\n",
        "# get all feature names in X_sent140_train_counts\n",
        "sent140_features = cv2.get_feature_names_out()  # type: ndarray | shape: (21055,)\n",
        "# build the testing vectorizer with features from training set\n",
        "cv3 = CountVectorizer(min_df = 5, vocabulary = sent140_features)\n",
        "X_sent140_test_counts = cv3.fit_transform(final_msg_test)  # shape: (358, 123)\n",
        "\n",
        "\n",
        "######################### raw data\n",
        "cv_train_raw2 = CountVectorizer(vocabulary = sent140_features)\n",
        "raw_train_counts2 = cv_train_raw2.fit_transform(no_punc_msg_train_data)\n",
        "\n",
        "cv_test_raw2 = CountVectorizer(vocabulary = sent140_features)\n",
        "raw_test_counts2 = cv_test_raw2.fit_transform(no_punc_msg_test_data)\n",
        "\n",
        "\n",
        "# if not set max_df and min_df, the shape of X_sent140_train_counts is: (320000, 218590)\n",
        "# if min_df = 5, the shape of X_sent140_train_counts is: (320000, 19772)\n",
        "# if set to max_df = 0.8, min_df = 5000, the shape of X_sent140_train_counts is: (320000, 69)\n",
        "# if set to max_df = 0.9, min_df = 1000, the shape of X_sent140_train_counts is: (320000, 376)\n",
        "\n",
        "tf_trans2 = TfidfTransformer(use_idf=False).fit(X_sent140_train_counts)\n",
        "tf_trans3 = TfidfTransformer(use_idf=False).fit(X_sent140_test_counts)\n",
        "X_sent140_train_freq = tf_trans2.transform(X_sent140_train_counts)\n",
        "X_sent140_test_freq = tf_trans3.transform(X_sent140_test_counts)\n",
        "\n",
        "\n"
      ]
    },
    {
      "cell_type": "markdown",
      "metadata": {
        "id": "Jz4n7c63_Epv"
      },
      "source": [
        "\n",
        "\n",
        "#Task 2: Implement Naive Bayes and k-fold cross validation"
      ]
    },
    {
      "cell_type": "markdown",
      "metadata": {
        "id": "560u6K_eOqJ4"
      },
      "source": [
        "##Multinomial Naive Bayes:"
      ]
    },
    {
      "cell_type": "markdown",
      "metadata": {
        "id": "uuHiyAlSOylW"
      },
      "source": [
        "### Fit the Data:"
      ]
    },
    {
      "cell_type": "code",
      "execution_count": 12,
      "metadata": {
        "id": "97ixc_C4NhnD"
      },
      "outputs": [],
      "source": [
        "class MultinomialNaiveBayes:\n",
        "    \n",
        "    def __init__(self, alpha=1):\n",
        "        self.alpha = alpha\n",
        "        return\n",
        "    \n",
        "    def fit(self, x, y):\n",
        "        N, D = x.shape\n",
        "        C = np.unique(y).shape[0]\n",
        "        # one parameter for each feature conditioned on each class\n",
        "        Nyi = np.zeros((C,D))\n",
        "        Nc = np.zeros(C) # number of instances in class c\n",
        "        Ny = np.zeros(C)\n",
        "        for c in range(C):\n",
        "            x_c = x[y == c]        #slice all the elements from class c\n",
        "            Nc[c] = x_c.shape[0]       #get number of elements of class c\n",
        "            Nyi[c,:] = np.sum(x_c,0)     #counts of word d in all documents labelled c\n",
        "            Ny[c] = np.sum(x_c)   #total word count in all documents labelled c\n",
        "        self.Nc = Nc\n",
        "        self.N_yi = Nyi   # C x D \n",
        "        self.N_y = Ny\n",
        "        self.D = D\n",
        "        self.pi = (Nc)/(N)  #Laplace smoothing (using alpha_c=1 for all c)\n",
        "        self.C = C\n",
        "        numerator = self.N_yi + self.alpha\n",
        "        denominator = self.N_y + (self.alpha * self.D)\n",
        "        denominator = denominator[:,None]\n",
        "        self.thetak = numerator/denominator \n",
        "        return self\n",
        "\n",
        "    def __eq__(self, other):\n",
        "        return self.alpha == other.alpha"
      ]
    },
    {
      "cell_type": "markdown",
      "metadata": {
        "id": "5iiUI_FNX0LT"
      },
      "source": [
        "###Prediction for new data\n"
      ]
    },
    {
      "cell_type": "code",
      "execution_count": 13,
      "metadata": {
        "id": "Jqh0GGDaNnhw"
      },
      "outputs": [],
      "source": [
        "def logsumexp(Z):      # dimension N x C\n",
        "    Zmax = np.max(Z,axis=1)[:,None]     # max over C\n",
        "    log_sum_exp = np.log(np.sum(np.exp(Z - Zmax), axis=1))\n",
        "    Zmax = Zmax[:,0]\n",
        "    log_sum_exp = Zmax + log_sum_exp\n",
        "    log_sum_exp = log_sum_exp[:,None]\n",
        "    return log_sum_exp\n",
        "\n",
        "def _logtheta(self, x_i, i, l):\n",
        "    Nyi = self.N_yi[l,i]\n",
        "    Ny  = self.N_y[l]\n",
        "    numerator = Nyi + self.alpha\n",
        "    denominator = Ny + (self.alpha * self.D)\n",
        "    return  x_i*np.log((numerator / denominator))\n",
        "MultinomialNaiveBayes._logtheta = _logtheta\n",
        "\n",
        "def _loglikelihood(self, X, nt, l):\n",
        "    tmp = []\n",
        "    for h in X[nt].nonzero()[1]:   \n",
        "      tmp.append(self._logtheta(X[nt,h], h, l))\n",
        "    return np.sum(tmp)\n",
        "MultinomialNaiveBayes._loglikelihood = _loglikelihood\n",
        "\n",
        "def predict(self, X):\n",
        "    Nt, D = X.shape\n",
        "    log_prior = np.log(self.pi)[None,:]    #turn log_pi to N * C\n",
        "    log_likelihood = np.zeros((Nt, self.C))\n",
        "    for i in range(Nt):\n",
        "      for l in range(self.C):\n",
        "        log_likelihood[i][l] = self._loglikelihood(X,i,l)        \n",
        "    log_posterior = log_prior + log_likelihood\n",
        "    self.posterior = np.exp(log_posterior - logsumexp(log_posterior))     \n",
        "    y_pred = np.argmax(self.posterior, axis=1) \n",
        "    return y_pred   # dimension N x C\n",
        "MultinomialNaiveBayes.predict = predict"
      ]
    },
    {
      "cell_type": "markdown",
      "metadata": {
        "id": "TQstVvAv665D"
      },
      "source": [
        "## Gaussian Naive Bayes"
      ]
    },
    {
      "cell_type": "markdown",
      "metadata": {
        "id": "zYkI6hG77EXf"
      },
      "source": [
        "### Fit the data"
      ]
    },
    {
      "cell_type": "code",
      "execution_count": null,
      "metadata": {
        "id": "Jb-AbM3d7YxZ"
      },
      "outputs": [],
      "source": [
        "class GaussianNaiveBayes:\n",
        "    \n",
        "    def __init__(self):\n",
        "        return\n",
        "    \n",
        "    def fit(self, x, y):\n",
        "        N, D = x.shape\n",
        "        C = np.max(y) + 1\n",
        "        # one parameter for each feature conditioned on each class\n",
        "        mu, sigma = np.zeros((C,D)), np.zeros((C,D))\n",
        "        Nc = np.zeros(C) # number of instances in class c\n",
        "        # for each class get the MLE for the mean and std\n",
        "        for c in range(C):\n",
        "            x_c = x[y == c]                         #slice all the elements from class c\n",
        "            Nc[c] = x_c.shape[0]                      #get number of elements of class c\n",
        "            mu[c,:] = np.mean(x_c,0)                  #mean of features of class c\n",
        "            for i in ramge(D):\n",
        "              col = x_c.getcol(i)\n",
        "              Nt = col.shape[0]\n",
        "              sqr = col.copy() # take a copy of the col\n",
        "              sqr.data **= 2 # square the data, i.e. just the non-zero data\n",
        "              variance = sqr.sum()/N - col.mean()**2\n",
        "            sigma[c,:] = np.std(x_c,0)               #std of features of class c\n",
        "        self.mu = mu                                  # C x D\n",
        "        self.sigma = sigma                            # C x D\n",
        "        self.pi = (Nc+1)/(N+C)                        #Laplace smoothing (using alpha_c=1 for all c) you can derive using Dirichlet's distribution\n",
        "        return self"
      ]
    },
    {
      "cell_type": "markdown",
      "metadata": {
        "id": "KcTbhWKk7I1L"
      },
      "source": [
        "### Prediction for new data"
      ]
    },
    {
      "cell_type": "code",
      "execution_count": null,
      "metadata": {
        "id": "aEP-MBRo7OTG"
      },
      "outputs": [],
      "source": [
        "def logsumexp(Z):                                                # dimension C x N\n",
        "    Zmax = np.max(Z,axis=0)[None,:]                              # max over C\n",
        "    log_sum_exp = Zmax + np.log(np.sum(np.exp(Z - Zmax), axis=0))\n",
        "    return log_sum_exp\n",
        "\n",
        "def predict(self, xt):\n",
        "    Nt, D = xt.shape\n",
        "    # for numerical stability we work in the log domain\n",
        "    # we add a dimension because this is added to the log-likelihood matrix \n",
        "    # that assigns a likelihood for each class (C) to each test point, and so it is C x N\n",
        "    log_prior = np.log(self.pi)[:, None]\n",
        "    # logarithm of the likelihood term for Gaussian \n",
        "    # the first two terms are the logarithm of the normalization term in the Gaussian and the final term is the exponent in the Gaussian. \n",
        "    # Notice that we are adding dimensions (using None) to model parameters and data to make this evaluation. \n",
        "    # The reason is that sigma and mu are C x D, while the data x is N x D. We operate on a C x N x D shape by increasing the number of dimensions when needed\n",
        "    log_likelihood = -.5 * np.log(2*np.pi) - np.log(self.sigma[:,None,:]) -.5 * (((xt[None,:,:] - self.mu[:,None,:])/self.sigma[:,None,:])**2)\n",
        "    # now we sum over the feature dimension to get a C x N matrix (this has the log-likelihood for each class-test point combination)\n",
        "    log_likelihood = np.sum(log_likelihood, axis=2)\n",
        "    # posterior calculation\n",
        "    log_posterior = log_prior + log_likelihood\n",
        "    posterior = np.exp(log_posterior - logsumexp(log_posterior))\n",
        "    return posterior.T                                                  # dimension N x C\n",
        "\n",
        "GaussianNaiveBayes.predict = predict"
      ]
    },
    {
      "cell_type": "markdown",
      "metadata": {
        "id": "DXKOv7UB8KpY"
      },
      "source": [
        "## Evaluation of accuracy"
      ]
    },
    {
      "cell_type": "code",
      "execution_count": 14,
      "metadata": {
        "id": "6d9nkX8C8Od3"
      },
      "outputs": [],
      "source": [
        "def evaluate_acc(y_test, y_pred):\n",
        "  accuracy = np.sum(y_pred == y_test)/y_pred.shape[0]\n",
        "  return accuracy"
      ]
    },
    {
      "cell_type": "markdown",
      "metadata": {
        "id": "GRhmwfiy9FJG"
      },
      "source": [
        "## Cross-Validation"
      ]
    },
    {
      "cell_type": "markdown",
      "metadata": {
        "id": "EbIuQadHpvLR"
      },
      "source": [
        "### cross_validation_split"
      ]
    },
    {
      "cell_type": "code",
      "execution_count": 15,
      "metadata": {
        "id": "ScM4CeGips-v",
        "colab": {
          "base_uri": "https://localhost:8080/",
          "height": 178
        },
        "outputId": "9c41216d-165c-435d-ce19-94e2826c06d3"
      },
      "outputs": [
        {
          "output_type": "execute_result",
          "data": {
            "application/vnd.google.colaboratory.intrinsic+json": {
              "type": "string"
            },
            "text/plain": [
              "'\\n# KNN best hyperparameter in dataset 1 | best K value: 4\\nknn1 = findBestHP(knn_model, X_train_counts, news_train_labels, knn_dict)\\nprint(\"The best hyperparameter value \\'K\\' of model KNN on 20 news group dataset is: \", knn1)\\n# KNN best hyperparameter in dataset 2\\nknn2 = findBestHP(knn_model, X_sent140_train_counts, sent140_train_labels, knn_dict)\\nprint(\"The best hyperparameter value \\'K\\' of model KNN on sentiment140 dataset is: \", knn2)\\n\\n\\n# Multinomial best hyperparameter in dataset 1\\nmn1 = findBestHP(mn_model, X_train_counts, news_train_labels, mn_dict)\\nprint(\"The best hyperparameter value \\'K\\' of model KNN on 20 news group dataset is: \", mn1)\\n# Multinomial best hyperparameter in dataset 2\\nmn2 = findBestHP(mn_model, X_sent140_train_counts, sent140_train_labels, mn_dict)\\nprint(\"The best hyperparameter value \\'K\\' of model KNN on sentiment140 dataset is: \", mn2)\\n\\n# Logistic Regression best hyperparameter in dataset 1\\nlr1 = findBestHP(lr_model, X_train_counts, news_train_labels, lr_dict)\\nprint(\"The best hyperparameter value \\'K\\' of model KNN on 20 news group dataset is: \", lr1)\\n# Logistic Regression best hyperparameter in dataset 2\\nlr2 = findBestHP(lr_model, X_sent140_train_counts, sent140_train_labels, lr_dict)\\nprint(\"The best hyperparameter value \\'K\\' of model KNN on sentiment140 dataset is: \", lr2)\\n'"
            ]
          },
          "metadata": {},
          "execution_count": 15
        }
      ],
      "source": [
        "def cross_validate_split(n, n_folds=5):\n",
        "    #get the number of data samples in each split\n",
        "    n_val = n // n_folds\n",
        "    inds = np.random.permutation(n)\n",
        "    inds = []\n",
        "    for f in range(n_folds):\n",
        "        tr_inds = []\n",
        "        #get the validation indexes\n",
        "        val_inds = list(range(f * n_val, (f+1)*n_val))\n",
        "        #get the train indexes\n",
        "        if f > 0:\n",
        "            tr_inds = list(range(f*n_val))\n",
        "        if f < n_folds - 1:\n",
        "            tr_inds = tr_inds + list(range((f+1)*n_val, n))\n",
        "        #The yield statement suspends function’s execution and sends a value back to the caller\n",
        "        #but retains enough state information to enable function to resume where it is left off\n",
        "        yield tr_inds, val_inds\n",
        "\n",
        "\n",
        "# helper function that outputs a list of accuracy\n",
        "def getAccList(model, X, Y, num_folds):\n",
        "    num_instances, num_features = X.shape\n",
        "    valid_predicts = []\n",
        "    for f, (tr, val) in enumerate(cross_validate_split(num_instances, num_folds)):\n",
        "      #print(f)\n",
        "      #print(cross_validate_split(num_instances, num_folds))\n",
        "      model = model.fit(X[tr], Y[tr])\n",
        "      y_pred = model.predict(X[val])\n",
        "      accuracy = evaluate_acc(Y[val], y_pred)\n",
        "      valid_predicts.append(accuracy)\n",
        "    return valid_predicts\n",
        "\n",
        "\n",
        "\n",
        "# return a mean value, not a list\n",
        "def kfoldCV(acc_list):\n",
        "    result = np.mean(acc_list)\n",
        "    return result\n",
        "\n",
        "\n",
        "\n",
        "# function that takes the given model and compute kfold average on each input hpara\n",
        "# model is of type object, hpara is of type dictionary (key: name of parameter, value: a list of hyperparameter values)\n",
        "# example: findBestHP(DecisionTree(), {\"max_depth\": [2, 3, 4, 5, 6]}) | dict(max_depth = [2, 3, 4, 5, 6])\n",
        "# example: findBestHP(LogisticRegression(), {\"solver\": [‘newton-cg’, ‘lbfgs’, ‘liblinear’, ‘sag’, ‘saga’],\n",
        "#                                            \"penalty\": [‘none’, ‘l1’, ‘l2’, ‘elasticnet’], \n",
        "#                                            \"C\": [100, 10, 1.0, 0.1, 0.01]})\n",
        "def findBestHP(model, X, Y, hpara):\n",
        "    corres_results = dict()  # the key of this dict should be a list of hyperparameter values, and the value of keys should be mean result\n",
        "    hp_num = len(hpara)\n",
        "\n",
        "    if (type(model) == type(KNeighborsClassifier())):\n",
        "      options = hpara.get(list(hpara.keys())[0])\n",
        "      for value in options:\n",
        "        new_obj = KNeighborsClassifier(n_neighbors = value)\n",
        "        corres_results[value] = kfoldCV(getAccList(new_obj, X, Y, 5))\n",
        "      return max(corres_results, key = corres_results.get)\n",
        "\n",
        "    elif (type(model) == type(DecisionTreeClassifier())):\n",
        "      options = hpara.get(list(hpara.keys())[0])\n",
        "      for value in options:\n",
        "        new_obj = DecisionTreeClassifier(max_depth = value)\n",
        "        corres_results[value] = kfoldCV(getAccList(new_obj, X, Y, 5))\n",
        "      return max(corres_results, key = corres_results.get)\n",
        "\n",
        "    elif (type(model) == type(MultinomialNaiveBayes())):\n",
        "      options = hpara.get(list(hpara.keys())[0])\n",
        "      for value in options:\n",
        "        new_obj = MultinomialNaiveBayes(alpha = value)\n",
        "        corres_results[value] = kfoldCV(getAccList(new_obj, X, Y, 5))\n",
        "      return max(corres_results, key = corres_results.get)\n",
        "\n",
        "    elif (type(model) == type(LogisticRegression())):\n",
        "      combined = [(slr, c) for slr in hpara.get(\"solver\") for c in hpara.get(\"C\")]\n",
        "      for tp in combined:\n",
        "        new_obj = LogisticRegression(solver = tp[0], penalty = 'l2', C = tp[2], max_iter = 1000)\n",
        "        corres_results[tp] = kfoldCV(getAccList(new_obj, X, Y, 5))\n",
        "      return max(corres_results, key = corres_results.get)\n",
        "\n",
        "    return None\n",
        "\n",
        "\n",
        "\n",
        "######################## find the best hyperparameter of each model under different datasets\n",
        "# dictionary of hyperparameters\n",
        "knn_dict = {\"K\": [3, 4, 5, 6, 7]}\n",
        "mn_dict = {\"alpha\": [1, 2, 3, 4, 5]}\n",
        "lr_dict = {\"solver\": ['newton-cg', 'lbfgs', 'liblinear', 'sag', 'saga'], \"C\": [100, 10, 1.0, 0.1, 0.01]}\n",
        "\n",
        "knn_model = KNeighborsClassifier()\n",
        "mn_model = MultinomialNaiveBayes()\n",
        "lr_model = LogisticRegression()\n",
        "\n",
        "\n",
        "############################### find the best value for hyperparameter\n",
        "\n",
        "\n",
        "# KNN best hyperparameter in dataset 1 | best K value: 4\n",
        "knn1 = findBestHP(knn_model, X_train_counts, news_train_labels, knn_dict)\n",
        "print(\"The best hyperparameter value 'K' of model KNN on 20 news group dataset is: \", knn1)\n",
        "# KNN best hyperparameter in dataset 2\n",
        "knn2 = findBestHP(knn_model, X_sent140_train_counts, sent140_train_labels, knn_dict)\n",
        "print(\"The best hyperparameter value 'K' of model KNN on sentiment140 dataset is: \", knn2)\n",
        "\n",
        "\n",
        "# Multinomial best hyperparameter in dataset 1\n",
        "mn1 = findBestHP(mn_model, X_train_counts, news_train_labels, mn_dict)\n",
        "print(\"The best hyperparameter value 'K' of model KNN on 20 news group dataset is: \", mn1)\n",
        "# Multinomial best hyperparameter in dataset 2\n",
        "mn2 = findBestHP(mn_model, X_sent140_train_counts, sent140_train_labels, mn_dict)\n",
        "print(\"The best hyperparameter value 'K' of model KNN on sentiment140 dataset is: \", mn2)\n",
        "\n",
        "\n",
        "# Logistic Regression best hyperparameter in dataset 1\n",
        "lr1 = findBestHP(lr_model, X_train_counts, news_train_labels, lr_dict)\n",
        "print(\"The best hyperparameter value 'K' of model KNN on 20 news group dataset is: \", lr1)\n",
        "# Logistic Regression best hyperparameter in dataset 2\n",
        "lr2 = findBestHP(lr_model, X_sent140_train_counts, sent140_train_labels, lr_dict)\n",
        "print(\"The best hyperparameter value 'K' of model KNN on sentiment140 dataset is: \", lr2)\n",
        "\n"
      ]
    },
    {
      "cell_type": "code",
      "execution_count": null,
      "metadata": {
        "id": "ohxD-gS6bJ0L"
      },
      "outputs": [],
      "source": [
        "# MultinomialNB\n",
        "obj = MultinomialNaiveBayes()\n",
        "para = {\"alpha\": [1, 2, 3]}\n",
        "print(findBestHP(obj, X_train_counts, news_train_labels, para))"
      ]
    },
    {
      "cell_type": "markdown",
      "metadata": {
        "id": "D_-dFo0G_H53"
      },
      "source": [
        "#Task 3: Run experiments"
      ]
    },
    {
      "cell_type": "code",
      "execution_count": 18,
      "metadata": {
        "id": "80-4lqc1_Mun",
        "colab": {
          "base_uri": "https://localhost:8080/",
          "height": 787
        },
        "outputId": "88bc8eb4-ca7e-4fd6-9b99-04971800aa03"
      },
      "outputs": [
        {
          "output_type": "display_data",
          "data": {
            "image/png": "[encoded data removed]",
            "text/plain": [
              "<Figure size 432x288 with 1 Axes>"
            ]
          },
          "metadata": {
            "needs_background": "light"
          }
        },
        {
          "output_type": "display_data",
          "data": {
            "image/png": "[encoded data removed]",
            "text/plain": [
              "<Figure size 432x288 with 1 Axes>"
            ]
          },
          "metadata": {
            "needs_background": "light"
          }
        },
        {
          "output_type": "stream",
          "name": "stdout",
          "text": [
            "The accuracy of KNN on raw data 1 is:  0.21908127208480566\n",
            "The accuracy of KNN on raw data 2 is:  0.6703910614525139\n",
            "The accuracy of Logistic Regression on raw data 1 is:  0.6431095406360424\n",
            "The accuracy of Logistic Regression on raw data 2 is:  0.8044692737430168\n",
            "The accuracy of Multinomial Naive Bayes on raw data 1 is:  0.6307420494699647\n",
            "The accuracy of Multinomial Naive Bayes on raw data 2 is:  0.7877094972067039\n",
            "The accuracy of KNN on processed data 1 is:  0.24028268551236748\n",
            "The accuracy of KNN on processed data 2 is:  0.6899441340782123\n",
            "The accuracy of Logistic Regression on processed data 1 is:  0.696113074204947\n",
            "The accuracy of Logistic Regression on processed data 2 is:  0.7988826815642458\n",
            "The accuracy of Multinomial Naive Bayes on processed data 1 is:  0.6554770318021201\n",
            "The accuracy of Multinomial Naive Bayes on processed data 2 is:  0.8128491620111732\n"
          ]
        }
      ],
      "source": [
        "from nltk.sem import evaluate\n",
        "\n",
        "######################## helper function that splits data\n",
        "# data of type sparse matrix, portion of type float in between 0 and 1\n",
        "def splitData(original):  # original: nested list\n",
        "  result_list = []\n",
        "  for layer in range(2):\n",
        "    ori_layer = []\n",
        "    if layer == 0:  # this is the layer of training data list\n",
        "      for data in original[layer]:\n",
        "        splitted = []\n",
        "        for i in range(4):\n",
        "          row_num, col_num = data.shape \n",
        "          splitted.append(data[:round( (i+1) * 0.2 * row_num), :])\n",
        "        ori_layer.append(splitted)\n",
        "      result_list.append(ori_layer)\n",
        "    if layer == 1:  # this is the layer of training labels list\n",
        "      for data in original[layer]:\n",
        "        splitted = []\n",
        "        for i in range(4):\n",
        "          #print(\"layer: \", layer, \" | i: \", i)\n",
        "          #print(\"shape of splitted[1] is: \", data[:round( (i+1) * 0.2 * row_num)].shape)\n",
        "          splitted.append(data[:round( (i+1) * 0.2 * row_num)])\n",
        "        ori_layer.append(splitted)\n",
        "      result_list.append(ori_layer)\n",
        "  return result_list\n",
        "\n",
        "\n",
        "########################## data to be used\n",
        "train_list = [[X_train_counts, X_sent140_train_counts], [news_train_labels, sent140_train_labels]]\n",
        "test_list = [[X_test_counts, X_sent140_test_counts], [news_test_labels, sent140_test_labels]]\n",
        "\n",
        "news_train = [X_train_counts, news_train_labels]\n",
        "sent_train = [X_sent140_train_counts, sent140_train_labels]\n",
        "news_test = [X_test_counts, news_test_labels]\n",
        "sent_test = [X_sent140_test_counts, sent140_test_labels]\n",
        "\n",
        "splitted_train = splitData(train_list)\n",
        "splitted_test = splitData(test_list)\n",
        "\n",
        "\n",
        "########################## prepare models\n",
        "models = []\n",
        "models.append(('my_MNB', MultinomialNaiveBayes()))\n",
        "models.append(('LR', LogisticRegression(multi_class = 'multinomial', solver='lbfgs', max_iter=1000)))\n",
        "models.append(('KNN', KNeighborsClassifier()))\n",
        "models.append(('CART', DecisionTreeClassifier()))\n",
        "\n",
        "\n",
        "########################## store necessary values to plot graphs\n",
        "# we plot two graphs here: one for Logistic Regression, and one for Multinomial\n",
        "# we represent the necessary data of these two models by dictionaries\n",
        "# the keys represent portion (x axis), and the corresponding values represent accuracy (y axis)\n",
        "LR_dict_d1 = dict()\n",
        "MN_dict_d1 = dict()\n",
        "LR_dict_d2 = dict()\n",
        "MN_dict_d2 = dict()\n",
        "\n",
        "\n",
        "########################### training data split\n",
        "d1_train_row, d1_train_col = X_train_counts.shape\n",
        "d1_counts_split = [X_train_counts[:round(0.2 * d1_train_row), :], X_train_counts[:round(0.4 * d1_train_row), :],\n",
        "                   X_train_counts[:round(0.6 * d1_train_row), :], X_train_counts[:round(0.8 * d1_train_row), :]]\n",
        "d1_labels_row = news_train_labels.shape[0]\n",
        "d1_labels_split = [news_train_labels[:round(0.2 * d1_labels_row)], news_train_labels[:round(0.4 * d1_labels_row)], \n",
        "                   news_train_labels[:round(0.6 * d1_labels_row)], news_train_labels[:round(0.8 * d1_labels_row)]]\n",
        "\n",
        "d2_train_row, d2_train_col = X_train_counts.shape\n",
        "d2_counts_split = [X_sent140_train_counts[:round(0.2 * d2_train_row), :], X_sent140_train_counts[:round(0.4 * d2_train_row), :],\n",
        "                   X_sent140_train_counts[:round(0.6 * d2_train_row), :], X_sent140_train_counts[:round(0.8 * d2_train_row), :]]\n",
        "d2_labels_row = news_train_labels.shape[0]\n",
        "d2_labels_split = [sent140_train_labels[:round(0.2 * d2_labels_row)], sent140_train_labels[:round(0.4 * d2_labels_row)], \n",
        "                   sent140_train_labels[:round(0.6 * d2_labels_row)], sent140_train_labels[:round(0.8 * d2_labels_row)]]\n",
        "\n",
        "\n",
        "########################### load data in dataset 1\n",
        "for name, model in models:\n",
        "  for i in range(4):\n",
        "    model.fit(d1_counts_split[i], d1_labels_split[i])\n",
        "    y_pred = model.predict(X_test_counts)\n",
        "    accuracy = evaluate_acc(news_test_labels, y_pred)\n",
        "    if (type(model) == type(LogisticRegression())):\n",
        "      LR_dict_d1[(i+1)*0.2] = accuracy\n",
        "    if (type(model) == type(MultinomialNaiveBayes())):\n",
        "      MN_dict_d1[(i+1)*0.2] = accuracy\n",
        "\n",
        "\n",
        "########################### load data in dataset 2\n",
        "for name, model in models:\n",
        "  for i in range(4):\n",
        "    model.fit(d2_counts_split[i], d2_labels_split[i])\n",
        "    y_pred = model.predict(X_sent140_test_counts)\n",
        "    accuracy = evaluate_acc(sent140_test_labels, y_pred)\n",
        "    if (type(model) == type(LogisticRegression())):\n",
        "      LR_dict_d2[(i+1)*0.2] = accuracy\n",
        "    if (type(model) == type(MultinomialNaiveBayes())):\n",
        "      MN_dict_d2[(i+1)*0.2] = accuracy\n",
        "\n",
        "\n",
        "########################### extract data for plotting\n",
        "# for plot of dataset 1:\n",
        "LR_x1 = list(LR_dict_d1.keys())\n",
        "LR_y1 = list(LR_dict_d1.values())\n",
        "MN_x1 = list(MN_dict_d1.keys())\n",
        "MN_y1 = list(MN_dict_d1.values())\n",
        "# for plot of dataset 2:\n",
        "LR_x2 = list(LR_dict_d2.keys())\n",
        "LR_y2 = list(LR_dict_d2.values())\n",
        "MN_x2 = list(MN_dict_d2.keys())\n",
        "MN_y2 = list(MN_dict_d2.values())\n",
        "\n",
        "\n",
        "########################## plot graphs\n",
        "# plot 1\n",
        "plt.plot(LR_x1, LR_y1, label = \"Logistic Regression\")\n",
        "plt.plot(MN_x1, MN_y1, label = \"Multinomial\")\n",
        "\n",
        "plt.xlabel(\"portion\")\n",
        "plt.ylabel(\"accuracy\")\n",
        "plt.title(\"20newsgroups: Comparison of performance on 4 data portion\")\n",
        "plt.legend()\n",
        "plt.show()\n",
        "\n",
        "# plot 2\n",
        "plt.plot(LR_x2, LR_y2, label = \"Logistic Regression\")\n",
        "plt.plot(MN_x2, MN_y2, label = \"Multinomial\")\n",
        "\n",
        "plt.xlabel(\"portion\")\n",
        "plt.ylabel(\"accuracy\")\n",
        "plt.title(\"Sentiment140: Comparison of performance on 4 data portion\")\n",
        "plt.legend()\n",
        "plt.show()\n",
        "\n",
        "\n",
        "lgmodel = LogisticRegression(multi_class = 'multinomial', solver='lbfgs', max_iter=1000)\n",
        "nb_model = MultinomialNaiveBayes()\n",
        "knn_model = KNeighborsClassifier(n_neighbors = 4)\n",
        "\n",
        "## raw accuracy\n",
        "knn_model.fit(raw_train_counts1, news_train_labels)\n",
        "y_pred = knn_model.predict(raw_test_counts1)\n",
        "knn1_accuracy = evaluate_acc(news_test_labels, y_pred)\n",
        "print(\"The accuracy of KNN on raw data 1 is: \", knn1_accuracy)\n",
        "\n",
        "knn_model.fit(raw_train_counts2, sent140_train_labels)\n",
        "y_pred = knn_model.predict(raw_test_counts2)\n",
        "knn2_accuracy = evaluate_acc(sent140_test_labels, y_pred)\n",
        "print(\"The accuracy of KNN on raw data 2 is: \", knn2_accuracy)\n",
        "\n",
        "lgmodel.fit(raw_train_counts1, news_train_labels)\n",
        "y_pred = lgmodel.predict(raw_test_counts1)\n",
        "lg1_accuracy = evaluate_acc(news_test_labels, y_pred)\n",
        "print(\"The accuracy of Logistic Regression on raw data 1 is: \", lg1_accuracy)\n",
        "\n",
        "lgmodel.fit(raw_train_counts2, sent140_train_labels)\n",
        "y_pred = lgmodel.predict(raw_test_counts2)\n",
        "lg2_accuracy = evaluate_acc(sent140_test_labels, y_pred)\n",
        "print(\"The accuracy of Logistic Regression on raw data 2 is: \", lg2_accuracy)\n",
        "\n",
        "nb_model.fit(raw_train_counts1, news_train_labels)\n",
        "y_pred = nb_model.predict(raw_test_counts1)\n",
        "nb1_accuracy = evaluate_acc(news_test_labels, y_pred)\n",
        "print(\"The accuracy of Multinomial Naive Bayes on raw data 1 is: \", nb1_accuracy)\n",
        "\n",
        "nb_model.fit(raw_train_counts2, sent140_train_labels)\n",
        "y_pred = nb_model.predict(raw_test_counts2)\n",
        "nb2_accuracy = evaluate_acc(sent140_test_labels, y_pred)\n",
        "print(\"The accuracy of Multinomial Naive Bayes on raw data 2 is: \", nb2_accuracy)\n",
        "\n",
        "## processed accuracy\n",
        "knn_model.fit(X_train_counts, news_train_labels)\n",
        "y_pred = knn_model.predict(X_test_counts)\n",
        "knn1_accuracy = evaluate_acc(news_test_labels, y_pred)\n",
        "print(\"The accuracy of KNN on processed data 1 is: \", knn1_accuracy)\n",
        "\n",
        "knn_model.fit(X_sent140_train_counts, sent140_train_labels)\n",
        "y_pred = knn_model.predict(X_sent140_test_counts)\n",
        "knn2_accuracy = evaluate_acc(sent140_test_labels, y_pred)\n",
        "print(\"The accuracy of KNN on processed data 2 is: \", knn2_accuracy)\n",
        "\n",
        "lgmodel.fit(X_train_counts, news_train_labels)\n",
        "y_pred = lgmodel.predict(X_test_counts)\n",
        "lg1_accuracy = evaluate_acc(news_test_labels, y_pred)\n",
        "print(\"The accuracy of Logistic Regression on processed data 1 is: \", lg1_accuracy)\n",
        "\n",
        "lgmodel.fit(X_sent140_train_counts, sent140_train_labels)\n",
        "y_pred = lgmodel.predict(X_sent140_test_counts)\n",
        "lg2_accuracy = evaluate_acc(sent140_test_labels, y_pred)\n",
        "print(\"The accuracy of Logistic Regression on processed data 2 is: \", lg2_accuracy)\n",
        "\n",
        "nb_model.fit(X_train_counts, news_train_labels)\n",
        "y_pred = nb_model.predict(X_test_counts)\n",
        "nb1_accuracy = evaluate_acc(news_test_labels, y_pred)\n",
        "print(\"The accuracy of Multinomial Naive Bayes on processed data 1 is: \", nb1_accuracy)\n",
        "\n",
        "nb_model.fit(X_sent140_train_counts, sent140_train_labels)\n",
        "y_pred = nb_model.predict(X_sent140_test_counts)\n",
        "nb2_accuracy = evaluate_acc(sent140_test_labels, y_pred)\n",
        "print(\"The accuracy of Multinomial Naive Bayes on processed data 2 is: \", nb2_accuracy)\n",
        "\n"
      ]
    }
  ],
  "metadata": {
    "accelerator": "GPU",
    "colab": {
      "collapsed_sections": [
        "TQstVvAv665D"
      ],
      "machine_shape": "hm",
      "name": "551A2.ipynb",
      "provenance": []
    },
    "kernelspec": {
      "display_name": "Python 3",
      "name": "python3"
    },
    "language_info": {
      "name": "python"
    }
  },
  "nbformat": 4,
  "nbformat_minor": 0
}